{
 "cells": [
  {
   "cell_type": "markdown",
   "id": "8b004dca-b06c-4ec9-a536-9051d2b9587b",
   "metadata": {
    "tags": []
   },
   "source": [
    "## Interpolation Errors\n",
    "\n",
    "In order to talk about the errors in an interpolating polynomial, we must assume that there is a reasonably well behaved underlying function $f(x)$.  The error can the be characterized by asking: What is $f(x)-p_n(x)$?  \n",
    "\n",
    ">  Theorem: Given *distinct* $x_0, x_1, ... , x_n$ in an interval $[a,b]$, and with $f(x)\\in C^{n+1}[a,b]$, \n",
    ">  for any $x\\in[a,b]$  there exists $\\xi\\in(a,b)$ such that   \n",
    ">\n",
    ">  $$\\begin{equation} f(x)-p_n(x) = \\frac{f^{n+1}(\\xi)}{(n+1)!}\\prod_{j=0}^n (x-x_j). \\end{equation}$$ (inter_err)\n",
    ">\n",
    "\n",
    "Proof: Take some fixed $x\\in[a,b]$.  If $x=x_k$ for some $k$ then the error formula {eq}`inter_err` gives zero (which is, indeed the true error as the interpolating polynomial agrees with the function at node points by definition).  If $x\\neq x_k$, then let's define an auxiliary function\n",
    "\n",
    "$$g(t)=f(t)-p_n(t) - \\left[ f(x)-p_n(x) \\right] \\frac{(t-x_0)(t-x_1)...(t-x_n)}{(x-x_0)(x-x_1)...(x-x_n)}$$  \n",
    "\n",
    "Now note that $g(t)=0$ for $t=x_k$ (for any $k$) because the numerator in the last term will contain the factor $(t-x_k)$ which is zero at $t=x_k$ and the first two terms cancel at $t=x_k$ as $f(x_k)=p_n(x_k)$ by definition of the interpolating polynomial.  Also note that $g(t)=0$ for $t=x$ as well since the fraction in the last term is one and the remaining terms cancel for $t=x$.  As a result, we see that $g(t)$ has $n+2$ zeros (at $x$ and at $x_0, x_1,...,x_n$).  \n",
    "\n",
    "We now make use of  \n",
    "\n",
    "````{dropdown} **Rolle's Theorem**  \n",
    "\n",
    "If $r(x)$ is a continuously differentiable function with $r(c)=r(d)=0$ then $r'(\\xi)=0$ for some $\\xi \\in (c,d)$.  This is usually proved in first year calculus textbooks but is fairly obvious when you plot any reasonably behaved function that is zero at two points $c$ and $d$ which will have to look something like one of the below:\n",
    "\n",
    "<img src=\"./img/rolle.svg\" width=\"400\">\n",
    "\n",
    "\n",
    "````\n",
    "\n",
    "Rolle's theorem implies that there must be a zero of $g'(t)$ between each of the zeros of $g(t)$ and hence $g'(t)$ must have $(n+1)$ zeros in $(a,b)$.  Following similar reasoning, $g''(t)$ has $n$ zeros.  Doing this recursively, we conclude that $g^{(n+1)}(t)$ has one zero in $(a,b)$ whose position we label as $t=\\xi$.  while lower derivatives might be messy, it should not be too hard to convince yourself that the $(n+1)$st derivative must have the fairly simple form  \n",
    "\n",
    "$$g^{(n+1)}(t)=f^{(n+1)}(t) - \\left[ f(x)-p_n(x) \\right] \\frac{(n+1)!}{(x-x_0)(x-x_1)...(x-x_n)}.$$  \n",
    "\n",
    "where we have used the fact that $p_n(t)$ is a $n$th degree polynomial so that its $(n+1)$st derivative must be zero.  Now we have  \n",
    "\n",
    "$$g^{(n+1)}(\\xi)=0=f^{(n+1)}(\\xi) - \\left[ f(x)-p_n(x) \\right] \\frac{(n+1)!}{(x-x_0)(x-x_1)...(x-x_n)}.$$  \n",
    "\n",
    "Rearranging this expression gives us the error  formula {eq}`inter_err`.\n",
    "\n",
    "$$\\blacksquare$$"
   ]
  },
  {
   "cell_type": "markdown",
   "id": "376933c0-5a89-4b0e-ae57-e42efdfead12",
   "metadata": {},
   "source": []
  }
 ],
 "metadata": {
  "kernelspec": {
   "display_name": "Python 3 (ipykernel)",
   "language": "python",
   "name": "python3"
  },
  "language_info": {
   "codemirror_mode": {
    "name": "ipython",
    "version": 3
   },
   "file_extension": ".py",
   "mimetype": "text/x-python",
   "name": "python",
   "nbconvert_exporter": "python",
   "pygments_lexer": "ipython3",
   "version": "3.9.7"
  }
 },
 "nbformat": 4,
 "nbformat_minor": 5
}
