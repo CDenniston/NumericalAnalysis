{
 "cells": [
  {
   "cell_type": "markdown",
   "id": "8b004dca-b06c-4ec9-a536-9051d2b9587b",
   "metadata": {},
   "source": [
    "## Interpolation Errors\n",
    "\n",
    "In order to talk about the errors in an interpolating polynomial, we must assume that there is a reasonably well behaved underlying function $f(x)$.  The error can the be characterized by asking: What is $f(x)-p_n(x)$?  \n",
    "\n",
    ">  Theorem: Given *distinct* $x_0, x_1, ... , x_n$ in an interval $[a,b]$, and with $f(x)\\in C^{n+1}[a,b]$, \n",
    ">  for any $x\\in[a,b]$  there exists $\\xi\\in(a,b)$ such that   \n",
    ">\n",
    ">  $$\\begin{equation} f(x)-p_n(x) = \\frac{f^{n+1}(\\xi)}{(n+1)!}\\prod_{j=0}^n (x-x_j). \\end{equation} {eq}`inter_err`$$\n",
    ">\n",
    "\n",
    "Proof: Take some fixed $x\\in[a,b]$.  If $x=x_k$ for some $k$ then the error formula {ref}`inter_err` gives zero (which is, indeed the true error as the interpolating polynomial agrees with the function at node points by definition).  If $x\\neq x_k$, then let's define an auxiliary function\n",
    "\n",
    "$$g(t)=f(t)-p_n(t) - \\left[ f(x)-p_n(x) \\right] \\frac{(t-x_0)(t-x_1)...(t-x_n)}{(x-x_0)(x-x_1)...(x-x_n)}$$  \n",
    "\n",
    "Now note that $g(t)=0$ for $t=x_k$ (for any $k$) because the numerator in the last term will contain the factor $(t-x_k)$ which is zero at $t=x_k$ and the first two terms cancel at $t=x_k$ as $f(x_k)=p_n(x_k)$ by definition of the interpolating polynomial.  Also note that $g(t)=0$ for $t=x$ as well as the fraction last term is one and the remaining terms cancel for $t=x$.  As a result, we see that $g(t)$ has $n+2$ zeros (at $x$ and at $x_0, x_1,...,x_n$).  \n",
    "\n",
    "\n"
   ]
  },
  {
   "cell_type": "markdown",
   "id": "376933c0-5a89-4b0e-ae57-e42efdfead12",
   "metadata": {},
   "source": [
    "For numbered equations, one needs to use the same method:  \n",
    "\n",
    "```{math}\n",
    ":label: my_equation\n",
    "\\int_a^b f(x) = \\frac{1}{2} \n",
    "```  \n",
    "\n",
    "Now equation {ref}`my_equation` "
   ]
  }
 ],
 "metadata": {
  "kernelspec": {
   "display_name": "Python 3 (ipykernel)",
   "language": "python",
   "name": "python3"
  },
  "language_info": {
   "codemirror_mode": {
    "name": "ipython",
    "version": 3
   },
   "file_extension": ".py",
   "mimetype": "text/x-python",
   "name": "python",
   "nbconvert_exporter": "python",
   "pygments_lexer": "ipython3",
   "version": "3.9.7"
  }
 },
 "nbformat": 4,
 "nbformat_minor": 5
}
